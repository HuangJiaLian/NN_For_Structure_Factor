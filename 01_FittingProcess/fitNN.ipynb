{
 "cells": [
  {
   "cell_type": "code",
   "execution_count": 36,
   "metadata": {},
   "outputs": [],
   "source": [
    "import os,time,math,signal,random,shutil\n",
    "import matplotlib.pyplot as plt\n",
    "# Use Tensorflow V1\n",
    "import tensorflow.compat.v1 as tf\n",
    "tf.disable_v2_behavior()\n",
    "import numpy as np\n",
    "import input_data\n",
    "from decimal import Decimal"
   ]
  },
  {
   "cell_type": "code",
   "execution_count": 37,
   "metadata": {},
   "outputs": [],
   "source": [
    "def format_e(n):\n",
    "    a = '%E' % n\n",
    "    return a.split('E')[0].rstrip('0').rstrip('.') + 'E' + a.split('E')[1]"
   ]
  },
  {
   "cell_type": "code",
   "execution_count": 38,
   "metadata": {},
   "outputs": [],
   "source": [
    "class FitNN:\n",
    "    def __init__(self, train_inputs, train_stouts, layers):\n",
    "        self.layers = layers\n",
    "        self.num_layers = len(self.layers)\n",
    "        # Training Data\n",
    "        self.inputs = train_inputs\n",
    "        self.stouts = train_stouts\n",
    "        # Initialize NNs\n",
    "        self.weights, self.biases = self.initialize_NN(self.layers)\n",
    "        # tf placeholders and graph\n",
    "        self.sess = tf.Session()\n",
    "        self.saver = tf.train.Saver() # To Save Trainning Process\n",
    "        self.MODEL_SAVE_PATH = './model/'\n",
    "        self.MODEL_NAME='fitNN_model'\n",
    "        self.LOG_NAME = './log'\n",
    "        self.merged = tf.summary.merge_all()\n",
    "        self.writer = tf.summary.FileWriter(self.LOG_NAME, self.sess.graph)\n",
    "        self.input_tf = tf.placeholder(tf.float32, shape=[None, self.layers[0]])\n",
    "        self.stout_tf =  tf.placeholder(tf.float32, shape=[None, self.layers[-1]])\n",
    "        self.out_pred = self.neural_net(self.input_tf, self.weights, self.biases) \n",
    "\n",
    "        self.loss = tf.reduce_mean(tf.square(self.log10(self.stout_tf) - self.out_pred))\n",
    "        self.optimizer = tf.train.AdamOptimizer(0.00001)\n",
    "        self.train_op = self.optimizer.minimize(self.loss)\n",
    "        self.batch_size = 100\n",
    "\n",
    "        self.wb_rec_path = './wb_rec/'\n",
    "        if os.path.exists(self.wb_rec_path) != True:\n",
    "            os.makedirs(self.wb_rec_path)\n",
    "        \n",
    "        init = tf.global_variables_initializer()\n",
    "        self.sess.run(init)   \n",
    "\n",
    "\n",
    "    def initialize_NN(self, layers):\n",
    "        weights = []\n",
    "        biases = []\n",
    "        num_layers = len(layers)\n",
    "        for i in range(0,num_layers-1):\n",
    "            W = tf.Variable(tf.random_normal([layers[i],layers[i+1]]))\n",
    "            b = tf.Variable(tf.zeros([1,layers[i+1]]) + 0.1)\n",
    "            weights.append(W)\n",
    "            biases.append(b)\n",
    "        return weights,biases\n",
    "\n",
    "    def log10(self, x):\n",
    "        numerator = tf.log(x)\n",
    "        denominator = tf.log(tf.constant(10, dtype=numerator.dtype))\n",
    "        return numerator / denominator\n",
    "\n",
    "    def neural_net(self, inputs, weights, biases):\n",
    "        num_layers = len(weights) + 1 \n",
    "        h = self.log10(inputs)\n",
    "        for l in range(num_layers - 2):\n",
    "            W = weights[l]\n",
    "            b = biases[l]\n",
    "            h = tf.nn.sigmoid(tf.add(tf.matmul(h,W),b))\n",
    "        W = weights[-1]\n",
    "        b = biases[-1]\n",
    "        h = tf.add(tf.matmul(h,W),b)\n",
    "        return h\n",
    "    \n",
    "    def train(self,nIter):\n",
    "        tf_train_dict = {\n",
    "                        self.input_tf: self.inputs, self.stout_tf: self.stouts\n",
    "                        }\n",
    "        \n",
    "        # Restore Last Training Model \n",
    "        ckpt = tf.train.get_checkpoint_state(self.MODEL_SAVE_PATH)\n",
    "        if ckpt and ckpt.model_checkpoint_path:\n",
    "           self.saver.restore(self.sess, ckpt.model_checkpoint_path)\n",
    "           print(\"Model Restored.\")\n",
    "        \n",
    "        mini_batches_i = [self.inputs[k:k+self.batch_size] for k in range(0,len(self.inputs), self.batch_size)]\n",
    "        mini_batches_sto = [self.stouts[k:k+self.batch_size] for k in range(0,len(self.stouts), self.batch_size)]\n",
    "        start_time = time.time()\n",
    "        begin_time = start_time\n",
    "        for it in range(nIter):\n",
    "            # Use every batch to update weights and biases\n",
    "            self.sess.run(self.train_op, tf_train_dict)\n",
    "            if it % 100 == 0:\n",
    "                elapsed = time.time() - start_time\n",
    "                loss_value = self.sess.run(self.loss, tf_train_dict)\n",
    "                print('It: %d, Loss: %.5e, Time: %.2f' %(it, loss_value, elapsed))\n",
    "                start_time = time.time()\n",
    "            # Save weights and biases every 1000 epoch\n",
    "            if it % 1000 == 0:\n",
    "                rec_folder_name = str(it) +'wbRec/'\n",
    "                if os.path.exists(self.wb_rec_path+rec_folder_name) != True:\n",
    "                    os.makedirs(self.wb_rec_path+rec_folder_name)  \n",
    "                for j in range(self.num_layers-1):\n",
    "                    temp_w_rec = self.weights[j].eval(session=self.sess)\n",
    "                    temp_b_rec = self.biases[j].eval(session=self.sess)\n",
    "                    np.save(self.wb_rec_path+rec_folder_name+'w_rec'+str(j+1)+'.npy', temp_w_rec) \n",
    "                    np.save(self.wb_rec_path+rec_folder_name+'b_rec'+str(j+1)+'.npy', temp_b_rec)   \n",
    "                np.save('loss.npy',loss_value)\n",
    "                text_file = open(\"loss.txt\", \"a\")\n",
    "                loss_for_save =str(it) + ' ' + format_e(loss_value) + ' ' + str(time.time() - begin_time) + '\\n' \n",
    "                text_file.write(loss_for_save)\n",
    "                text_file.close()   \n",
    "                # Save model \n",
    "                self.saver.save(self.sess, os.path.join(self.MODEL_SAVE_PATH, self.MODEL_NAME))\n",
    "         "
   ]
  },
  {
   "cell_type": "code",
   "execution_count": 39,
   "metadata": {},
   "outputs": [],
   "source": [
    "os.system('mv loss.txt loss_last.txt')\n",
    "wraper = input_data.DataWrapper()\n",
    "h_layers = 5\n",
    "h_nodes = 20\n",
    "folder = './wb_rec/'\n",
    "for the_file in os.listdir(folder):\n",
    "    file_path = os.path.join(folder, the_file)\n",
    "    try:\n",
    "        if os.path.isfile(file_path):\n",
    "            os.unlink(file_path)\n",
    "        elif os.path.isdir(file_path): shutil.rmtree(file_path)\n",
    "    except Exception as e:\n",
    "        print(e)\n",
    "\n",
    "layers = [2] + [h_nodes]*h_layers + [1]\n",
    "text_file = open(\"nn_structure.txt\", \"w\")\n",
    "layers_for_save = 'hlayers:' + str(h_layers) + ' hnodes:' + str(h_nodes)\n",
    "text_file.write(layers_for_save)\n",
    "text_file.close()\n",
    "np.save('./wb_rec/layers.npy',layers)"
   ]
  },
  {
   "cell_type": "code",
   "execution_count": 40,
   "metadata": {},
   "outputs": [
    {
     "name": "stdout",
     "output_type": "stream",
     "text": [
      "It: 0, Loss: 4.78553e+00, Time: 0.07\n",
      "It: 100, Loss: 4.64700e+00, Time: 1.15\n",
      "It: 200, Loss: 4.51994e+00, Time: 0.39\n",
      "It: 300, Loss: 4.40319e+00, Time: 0.56\n",
      "It: 400, Loss: 4.29556e+00, Time: 0.54\n",
      "It: 500, Loss: 4.19605e+00, Time: 0.48\n",
      "It: 600, Loss: 4.10387e+00, Time: 0.47\n",
      "It: 700, Loss: 4.01834e+00, Time: 0.53\n",
      "It: 800, Loss: 3.93886e+00, Time: 0.50\n",
      "It: 900, Loss: 3.86488e+00, Time: 0.42\n",
      "It: 1000, Loss: 3.79591e+00, Time: 0.42\n",
      "It: 1100, Loss: 3.73149e+00, Time: 0.70\n",
      "It: 1200, Loss: 3.67120e+00, Time: 0.44\n",
      "It: 1300, Loss: 3.61464e+00, Time: 0.47\n",
      "It: 1400, Loss: 3.56142e+00, Time: 0.42\n",
      "It: 1500, Loss: 3.51117e+00, Time: 0.44\n",
      "It: 1600, Loss: 3.46354e+00, Time: 0.39\n",
      "It: 1700, Loss: 3.41819e+00, Time: 0.40\n",
      "It: 1800, Loss: 3.37481e+00, Time: 0.46\n",
      "It: 1900, Loss: 3.33310e+00, Time: 0.63\n",
      "It: 2000, Loss: 3.29279e+00, Time: 0.38\n",
      "It: 2100, Loss: 3.25361e+00, Time: 0.55\n",
      "It: 2200, Loss: 3.21533e+00, Time: 0.37\n",
      "It: 2300, Loss: 3.17774e+00, Time: 0.41\n",
      "It: 2400, Loss: 3.14067e+00, Time: 0.40\n",
      "It: 2500, Loss: 3.10395e+00, Time: 0.42\n",
      "It: 2600, Loss: 3.06744e+00, Time: 0.37\n",
      "It: 2700, Loss: 3.03104e+00, Time: 0.41\n",
      "It: 2800, Loss: 2.99466e+00, Time: 0.39\n",
      "It: 2900, Loss: 2.95820e+00, Time: 0.37\n",
      "It: 3000, Loss: 2.92162e+00, Time: 0.37\n",
      "It: 3100, Loss: 2.88487e+00, Time: 0.54\n",
      "It: 3200, Loss: 2.84790e+00, Time: 0.39\n",
      "It: 3300, Loss: 2.81069e+00, Time: 0.38\n",
      "It: 3400, Loss: 2.77322e+00, Time: 0.40\n",
      "It: 3500, Loss: 2.73548e+00, Time: 0.39\n",
      "It: 3600, Loss: 2.69747e+00, Time: 0.40\n",
      "It: 3700, Loss: 2.65919e+00, Time: 0.44\n",
      "It: 3800, Loss: 2.62063e+00, Time: 0.37\n",
      "It: 3900, Loss: 2.58181e+00, Time: 0.37\n",
      "It: 4000, Loss: 2.54274e+00, Time: 0.36\n",
      "It: 4100, Loss: 2.50344e+00, Time: 0.53\n",
      "It: 4200, Loss: 2.46392e+00, Time: 0.39\n",
      "It: 4300, Loss: 2.42418e+00, Time: 0.42\n",
      "It: 4400, Loss: 2.38424e+00, Time: 0.36\n",
      "It: 4500, Loss: 2.34410e+00, Time: 0.37\n",
      "It: 4600, Loss: 2.30380e+00, Time: 0.44\n",
      "It: 4700, Loss: 2.26331e+00, Time: 0.40\n",
      "It: 4800, Loss: 2.22267e+00, Time: 0.37\n",
      "It: 4900, Loss: 2.18187e+00, Time: 0.38\n",
      "It: 5000, Loss: 2.14094e+00, Time: 0.40\n",
      "It: 5100, Loss: 2.09987e+00, Time: 0.51\n",
      "It: 5200, Loss: 2.05870e+00, Time: 0.38\n",
      "It: 5300, Loss: 2.01744e+00, Time: 0.37\n",
      "It: 5400, Loss: 1.97610e+00, Time: 0.40\n",
      "It: 5500, Loss: 1.93474e+00, Time: 0.44\n",
      "It: 5600, Loss: 1.89336e+00, Time: 0.39\n",
      "It: 5700, Loss: 1.85200e+00, Time: 0.37\n",
      "It: 5800, Loss: 1.81071e+00, Time: 0.37\n",
      "It: 5900, Loss: 1.76950e+00, Time: 0.37\n",
      "It: 6000, Loss: 1.72843e+00, Time: 0.39\n",
      "It: 6100, Loss: 1.68752e+00, Time: 0.51\n",
      "It: 6200, Loss: 1.64682e+00, Time: 0.37\n",
      "It: 6300, Loss: 1.60636e+00, Time: 0.38\n",
      "It: 6400, Loss: 1.56617e+00, Time: 0.39\n",
      "It: 6500, Loss: 1.52629e+00, Time: 0.38\n",
      "It: 6600, Loss: 1.48675e+00, Time: 0.39\n",
      "It: 6700, Loss: 1.44759e+00, Time: 0.45\n",
      "It: 6800, Loss: 1.40883e+00, Time: 0.37\n",
      "It: 6900, Loss: 1.37050e+00, Time: 0.37\n",
      "It: 7000, Loss: 1.33264e+00, Time: 0.37\n",
      "It: 7100, Loss: 1.29525e+00, Time: 0.64\n",
      "It: 7200, Loss: 1.25838e+00, Time: 0.39\n",
      "It: 7300, Loss: 1.22205e+00, Time: 0.52\n",
      "It: 7400, Loss: 1.18627e+00, Time: 0.36\n",
      "It: 7500, Loss: 1.15108e+00, Time: 0.70\n",
      "It: 7600, Loss: 1.11648e+00, Time: 0.39\n",
      "It: 7700, Loss: 1.08251e+00, Time: 0.47\n",
      "It: 7800, Loss: 1.04917e+00, Time: 0.54\n",
      "It: 7900, Loss: 1.01649e+00, Time: 0.63\n",
      "It: 8000, Loss: 9.84475e-01, Time: 0.45\n",
      "It: 8100, Loss: 9.53151e-01, Time: 0.62\n",
      "It: 8200, Loss: 9.22522e-01, Time: 0.55\n",
      "It: 8300, Loss: 8.92612e-01, Time: 0.44\n",
      "It: 8400, Loss: 8.63423e-01, Time: 0.45\n",
      "It: 8500, Loss: 8.34971e-01, Time: 0.37\n",
      "It: 8600, Loss: 8.07266e-01, Time: 0.46\n",
      "It: 8700, Loss: 7.80320e-01, Time: 0.51\n",
      "It: 8800, Loss: 7.54143e-01, Time: 0.41\n",
      "It: 8900, Loss: 7.28742e-01, Time: 0.42\n",
      "It: 9000, Loss: 7.04126e-01, Time: 0.66\n",
      "It: 9100, Loss: 6.80305e-01, Time: 1.09\n",
      "It: 9200, Loss: 6.57284e-01, Time: 0.76\n",
      "It: 9300, Loss: 6.35064e-01, Time: 0.84\n",
      "It: 9400, Loss: 6.13650e-01, Time: 0.82\n",
      "It: 9500, Loss: 5.93041e-01, Time: 0.88\n",
      "It: 9600, Loss: 5.73235e-01, Time: 0.47\n",
      "It: 9700, Loss: 5.54234e-01, Time: 0.38\n",
      "It: 9800, Loss: 5.36026e-01, Time: 0.41\n",
      "It: 9900, Loss: 5.18607e-01, Time: 0.51\n"
     ]
    }
   ],
   "source": [
    "train_i,train_l = wraper.read_data_sets(wraper.all_data)\n",
    "model = FitNN(train_i,train_l,layers)\n",
    "# model.train(600000)\n",
    "model.train(10000)"
   ]
  },
  {
   "cell_type": "code",
   "execution_count": 41,
   "metadata": {},
   "outputs": [],
   "source": [
    "import pandas as pd"
   ]
  },
  {
   "cell_type": "code",
   "execution_count": 42,
   "metadata": {},
   "outputs": [],
   "source": [
    "df = pd.read_csv('loss.txt',sep=' ', header=None)"
   ]
  },
  {
   "cell_type": "code",
   "execution_count": 43,
   "metadata": {
    "scrolled": false
   },
   "outputs": [],
   "source": [
    "import matplotlib.pyplot as plt"
   ]
  },
  {
   "cell_type": "code",
   "execution_count": 44,
   "metadata": {},
   "outputs": [],
   "source": [
    "# df.loc[:,2]"
   ]
  },
  {
   "cell_type": "code",
   "execution_count": 45,
   "metadata": {},
   "outputs": [
    {
     "data": {
      "text/plain": [
       "Text(0.5, 0, 'epoch')"
      ]
     },
     "execution_count": 45,
     "metadata": {},
     "output_type": "execute_result"
    },
    {
     "data": {
      "image/png": "[encoded data removed]",
      "text/plain": [
       "<Figure size 432x288 with 1 Axes>"
      ]
     },
     "metadata": {
      "needs_background": "light"
     },
     "output_type": "display_data"
    }
   ],
   "source": [
    "plt.loglog(df.loc[:,0],df.loc[:,1])\n",
    "plt.ylabel('loss')\n",
    "plt.xlabel('epoch')"
   ]
  },
  {
   "cell_type": "code",
   "execution_count": 46,
   "metadata": {},
   "outputs": [
    {
     "data": {
      "text/plain": [
       "[<matplotlib.lines.Line2D at 0x7fbd9b56d590>]"
      ]
     },
     "execution_count": 46,
     "metadata": {},
     "output_type": "execute_result"
    },
    {
     "data": {
      "image/png": "[encoded data removed]",
      "text/plain": [
       "<Figure size 432x288 with 1 Axes>"
      ]
     },
     "metadata": {
      "needs_background": "light"
     },
     "output_type": "display_data"
    }
   ],
   "source": [
    "plt.loglog(df.loc[:,2],df.loc[:,1])"
   ]
  },
  {
   "cell_type": "code",
   "execution_count": null,
   "metadata": {},
   "outputs": [],
   "source": []
  },
  {
   "cell_type": "code",
   "execution_count": null,
   "metadata": {},
   "outputs": [],
   "source": []
  },
  {
   "cell_type": "code",
   "execution_count": null,
   "metadata": {},
   "outputs": [],
   "source": []
  },
  {
   "cell_type": "code",
   "execution_count": null,
   "metadata": {},
   "outputs": [],
   "source": []
  },
  {
   "cell_type": "code",
   "execution_count": null,
   "metadata": {},
   "outputs": [],
   "source": []
  }
 ],
 "metadata": {
  "kernelspec": {
   "display_name": "Python 3",
   "language": "python",
   "name": "python3"
  },
  "language_info": {
   "codemirror_mode": {
    "name": "ipython",
    "version": 3
   },
   "file_extension": ".py",
   "mimetype": "text/x-python",
   "name": "python",
   "nbconvert_exporter": "python",
   "pygments_lexer": "ipython3",
   "version": "3.7.7"
  }
 },
 "nbformat": 4,
 "nbformat_minor": 2
}
